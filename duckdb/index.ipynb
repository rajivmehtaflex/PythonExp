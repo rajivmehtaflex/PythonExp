{
 "cells": [
  {
   "cell_type": "code",
   "execution_count": null,
   "metadata": {},
   "outputs": [],
   "source": [
    "print('Gajraj')"
   ]
  },
  {
   "cell_type": "code",
   "execution_count": null,
   "metadata": {},
   "outputs": [],
   "source": [
    "!pip install duckdb\n",
    "!pip install plotly\n",
    "!pip install --upgrade nbformat"
   ]
  },
  {
   "cell_type": "code",
   "execution_count": null,
   "metadata": {},
   "outputs": [],
   "source": [
    "import duckdb\n",
    "import pandas as pd\n",
    "import random\n",
    "import plotly.express as ex\n",
    "import numpy as np\n",
    "pd.options.plotting.backend = \"plotly\"\n",
    "import plotly.io as pio\n",
    "import plotly.express as px\n",
    "pio.renderers.default = \"vscode\""
   ]
  },
  {
   "cell_type": "code",
   "execution_count": null,
   "metadata": {},
   "outputs": [],
   "source": [
    "con = duckdb.connect(database=':memory:')\n",
    "\n",
    "class RETURNTYPE:\n",
    "    ONE=1\n",
    "    PANDAS=2\n",
    "    RECORDS=3\n",
    "\n",
    "def sql_help(sql,params=RETURNTYPE.PANDAS):\n",
    "    con.execute(sql)\n",
    "    if params==RETURNTYPE.ONE:\n",
    "        return con.fetchone()\n",
    "    if params==RETURNTYPE.RECORDS:\n",
    "        return con.fetchall()\n",
    "    if params==RETURNTYPE.PANDAS:\n",
    "        return con.fetch_df()                "
   ]
  },
  {
   "cell_type": "code",
   "execution_count": null,
   "metadata": {},
   "outputs": [],
   "source": [
    "\n",
    "df=pd.DataFrame({\"x\":[random.randint(1,100) for i in range(100)],\"y\":[random.randint(1,100) for i in range(100)],\"z\":[random.randint(1,100) for i in range(100)]})\n",
    "foo=sql_help(\"select * from df where x < 50;\",RETURNTYPE.RECORDS)"
   ]
  },
  {
   "cell_type": "code",
   "execution_count": null,
   "metadata": {},
   "outputs": [],
   "source": [
    "foo.plot.pie(y=df.y)"
   ]
  },
  {
   "cell_type": "code",
   "execution_count": null,
   "metadata": {},
   "outputs": [],
   "source": [
    "import plotly.express as px\n",
    "fig = px.scatter_3d(df, x='x', y='y', z='z',\n",
    "              color='y')\n",
    "fig.show()"
   ]
  },
  {
   "cell_type": "code",
   "execution_count": null,
   "metadata": {},
   "outputs": [],
   "source": []
  }
 ],
 "metadata": {
  "kernelspec": {
   "display_name": "Python 3.9.13 ('intelpy')",
   "language": "python",
   "name": "python3"
  },
  "language_info": {
   "codemirror_mode": {
    "name": "ipython",
    "version": 3
   },
   "file_extension": ".py",
   "mimetype": "text/x-python",
   "name": "python",
   "nbconvert_exporter": "python",
   "pygments_lexer": "ipython3",
   "version": "3.9.13"
  },
  "orig_nbformat": 4,
  "vscode": {
   "interpreter": {
    "hash": "8d0a489fc027673f70e1dd244561e53ed4ef904bed8a95d511449ac909026c56"
   }
  }
 },
 "nbformat": 4,
 "nbformat_minor": 2
}
