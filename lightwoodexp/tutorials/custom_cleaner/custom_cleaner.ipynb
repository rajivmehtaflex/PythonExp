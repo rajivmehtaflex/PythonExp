{
 "cells": [
  {
   "cell_type": "markdown",
   "id": "regulated-manufacturer",
   "metadata": {},
   "source": [
    "## Using your own pre-processing methods in Lightwood\n",
    "\n",
    "#### Date: 2021.10.07\n",
    "\n",
    "For the notebook below, we'll be exploring how to make **custom pre-processing** methods for our data. Lightwood has standard cleaning protocols to handle a variety of different data types, however, we want users to feel comfortable augmenting and addressing their own changes. To do so, we'll highlight the approach we would take below:\n",
    "\n",
    "\n",
    "We will use data from [Kaggle](https://www.kaggle.com/c/commonlitreadabilityprize/data?select=train.csv). \n",
    "\n",
    "The data has several columns, but ultimately aims to use text to predict a *readability score*. There are also some columns that I do not want to use when making predictions, such as `url_legal`, `license`, among others.\n",
    "\n",
    "In this tutorial, we're going to focus on making changes to 2 columns: \n",
    "(1) **excerpt**, a text column, and ensuring we remove stop words using NLTK. <br>\n",
    "(2) **target**, the goal to predict; we will make this explicitly non-negative.\n",
    "\n",
    "Note, for this ACTUAL challenge, negative and positive are meaningful. We are using this as an example dataset to demonstrate how you can make changes to your underlying dataset and proceed to building powerful predictors.\n",
    "\n",
    "Let's get started!"
   ]
  },
  {
   "cell_type": "code",
   "execution_count": null,
   "id": "5a884f10",
   "metadata": {},
   "outputs": [],
   "source": [
    "print('Gajraj')"
   ]
  },
  {
   "cell_type": "code",
   "execution_count": null,
   "id": "happy-wheat",
   "metadata": {
    "execution": {
     "iopub.execute_input": "2022-02-03T21:30:13.425276Z",
     "iopub.status.busy": "2022-02-03T21:30:13.424404Z",
     "iopub.status.idle": "2022-02-03T21:30:15.210014Z",
     "shell.execute_reply": "2022-02-03T21:30:15.209637Z"
    }
   },
   "outputs": [],
   "source": [
    "import numpy as np\n",
    "import pandas as pd\n",
    "import torch\n",
    "import nltk\n",
    "\n",
    "import os\n",
    "import sys\n",
    "\n",
    "# Lightwood modules\n",
    "import lightwood as lw\n",
    "from lightwood import ProblemDefinition, \\\n",
    "                      JsonAI, \\\n",
    "                      json_ai_from_problem, \\\n",
    "                      code_from_json_ai, \\\n",
    "                      predictor_from_code"
   ]
  },
  {
   "cell_type": "markdown",
   "id": "indie-chaos",
   "metadata": {},
   "source": [
    "### 1) Load your data\n",
    "\n",
    "Lightwood uses `pandas` in order to handle datasets, as this is a very standard package in datascience. We can load our dataset using pandas in the following manner (make sure your data is in the data folder!)"
   ]
  },
  {
   "cell_type": "code",
   "execution_count": 19,
   "id": "recognized-parish",
   "metadata": {
    "execution": {
     "iopub.execute_input": "2022-02-03T21:30:15.214940Z",
     "iopub.status.busy": "2022-02-03T21:30:15.214680Z",
     "iopub.status.idle": "2022-02-03T21:30:18.082996Z",
     "shell.execute_reply": "2022-02-03T21:30:18.082726Z"
    }
   },
   "outputs": [],
   "source": [
    "# Load the data\n",
    "data = pd.read_csv(\"https://mindsdb-example-data.s3.eu-west-2.amazonaws.com/jupyter/train.csv.zip\")\n",
    "data.head()\n",
    "data.to_csv('experiments.csv')"
   ]
  },
  {
   "cell_type": "markdown",
   "id": "official-wright",
   "metadata": {},
   "source": [
    "We see **6 columns**, a variety which are numerical, missing numbers, text, and identifiers or \"ids\". For our predictive task, we are only interested in 2 such columns, the **excerpt** and **target** columns.\n",
    "\n",
    "### 2) Create a JSON-AI default object\n",
    "Before we create a custom cleaner object, let's first create JSON-AI syntax for our problem based on its specifications. We can do so by setting up a ``ProblemDefinition``. The ``ProblemDefinition`` allows us to specify the target, the column we intend to predict, along with other details. \n",
    "\n",
    "The end goal of JSON-AI is to provide *a set of instructions on how to compile a machine learning pipeline*.\n",
    "\n",
    "In this case, let's specify our target, the aptly named **target** column. We will also tell JSON-AI to throw away features we never intend to use, such as \"url_legal\", \"license\", and \"standard_error\". We can do so in the following lines:"
   ]
  },
  {
   "cell_type": "code",
   "execution_count": null,
   "id": "chicken-truth",
   "metadata": {
    "execution": {
     "iopub.execute_input": "2022-02-03T21:30:18.085631Z",
     "iopub.status.busy": "2022-02-03T21:30:18.085365Z",
     "iopub.status.idle": "2022-02-03T21:30:33.992691Z",
     "shell.execute_reply": "2022-02-03T21:30:33.992410Z"
    }
   },
   "outputs": [],
   "source": [
    "# Setup the problem definition\n",
    "problem_definition = {\n",
    "    'target': 'target',\n",
    "    \"ignore_features\": [\"url_legal\", \"license\", \"standard_error\"]\n",
    "}\n",
    "\n",
    "# Generate the j{ai}son syntax\n",
    "json_ai = json_ai_from_problem(data, problem_definition)"
   ]
  },
  {
   "cell_type": "markdown",
   "id": "needed-flashing",
   "metadata": {},
   "source": [
    "Lightwood, as it processes the data, will provide the user a few pieces of information.\n",
    "\n",
    "(1) It drops the features we specify in the `ignore_features` argument <br>\n",
    "(2) It takes a small sample of data from each column to *automatically infer the data type* <br>\n",
    "(3) For each column that was not ignored, it identifies the most likely data type.<br>\n",
    "(4) It notices that \"ID\" is a hash-like-identifier.<br>\n",
    "(5) It conducts a small statistical analysis on the distributions in order to generate syntax.<br>\n",
    "\n",
    "As soon as you request a JSON-AI object, Lightwood automatically creates functional syntax from your data. You can see it as follows: "
   ]
  },
  {
   "cell_type": "code",
   "execution_count": null,
   "id": "designed-condition",
   "metadata": {
    "execution": {
     "iopub.execute_input": "2022-02-03T21:30:33.996223Z",
     "iopub.status.busy": "2022-02-03T21:30:33.995947Z",
     "iopub.status.idle": "2022-02-03T21:30:33.997746Z",
     "shell.execute_reply": "2022-02-03T21:30:33.997483Z"
    }
   },
   "outputs": [],
   "source": [
    "print(json_ai.to_json())"
   ]
  },
  {
   "cell_type": "markdown",
   "id": "level-vacation",
   "metadata": {},
   "source": [
    "The above shows the minimal syntax required to create a functional JSON-AI object. For each feature you consider in the dataset, we specify the name of the feature, the type of encoder (feature-engineering method) to process the feature, and key word arguments to process the encoder. For the output, we perform a similar operation, but specify the types of mixers, or algorithms used in making a predictor that can estimate the target. Lastly, we populate the \"problem_definition\" key with the ingredients for our ML pipeline.\n",
    "\n",
    "These are the only elements required to get off the ground with JSON-AI. However, we're interested in making a *custom* approach. So, let's make this syntax a file, and introduce our own changes."
   ]
  },
  {
   "cell_type": "markdown",
   "id": "integrated-entrepreneur",
   "metadata": {},
   "source": [
    "### 3) Build your own cleaner module\n",
    "\n",
    "Let's make a file called `MyCustomCleaner.py`. To write this file, we will use `lightwood.data.cleaner.cleaner` as inspiration.\n",
    "\n",
    "The goal output of the cleaner is to provide pre-processing to your dataset - the output is only a pandas DataFrame. In theory, any pre-processing can be done here. However, data can be highly irregular - our default `Cleaner` function has several main goals:\n",
    "\n",
    "(1) Strip away any identifier, etc. unwanted columns <br>\n",
    "(2) Apply a cleaning function to each column in the dataset, according to that column's data type <br>\n",
    "(3) Standardize NaN values within each column for appropriate downstream treatment <br>\n",
    "\n",
    "You can choose to omit many of these details and completely write this module from scratch, but the easiest way to introduce your custom changes is to borrow the `Cleaner` function, and add core changes in a custom block.\n",
    "\n",
    "This can be done as follows\n",
    "\n",
    "\n",
    "You can see individual cleaning functions in `lightwood.data.cleaner`. If you want to entirely replace a cleaning technique given a particular data-type, we invite you to change `lightwood.data.cleaner.get_cleaning_func` using the argument `custom_cleaning_functions`; in this dictionary, for a datatype (specified in `api.dtype`), you can assign your own function to override our defaults. "
   ]
  },
  {
   "cell_type": "code",
   "execution_count": null,
   "id": "325d8f1b",
   "metadata": {
    "execution": {
     "iopub.execute_input": "2022-02-03T21:30:34.001348Z",
     "iopub.status.busy": "2022-02-03T21:30:34.001032Z",
     "iopub.status.idle": "2022-02-03T21:30:34.002545Z",
     "shell.execute_reply": "2022-02-03T21:30:34.002730Z"
    }
   },
   "outputs": [],
   "source": [
    "%%writefile MyCustomCleaner.py\n",
    "\n",
    "import numpy as np\n",
    "import pandas as pd\n",
    "\n",
    "from lightwood.api.dtype import dtype\n",
    "from lightwood.helpers import text\n",
    "from lightwood.helpers.log import log\n",
    "from lightwood.api.types import TimeseriesSettings\n",
    "from nltk.corpus import stopwords\n",
    "from random import random, randint\n",
    "# from loguru import logger\n",
    "\n",
    "stop_words = set(stopwords.words(\"english\"))\n",
    "\n",
    "from typing import Dict\n",
    "\n",
    "# Borrow functions from Lightwood's cleaner\n",
    "from lightwood.data.cleaner import (\n",
    "    _remove_columns,\n",
    "    _get_columns_to_clean,\n",
    "    get_cleaning_func,\n",
    ")\n",
    "\n",
    "# Use for standardizing NaNs\n",
    "VALUES_FOR_NAN_AND_NONE_IN_PANDAS = [np.nan, \"nan\", \"NaN\", \"Nan\", \"None\"]\n",
    "\n",
    "\n",
    "def cleaner(\n",
    "    data: pd.DataFrame,\n",
    "    dtype_dict: Dict[str, str],\n",
    "    identifiers: Dict[str, str],\n",
    "    target: str,\n",
    "    mode: str,\n",
    "    timeseries_settings: TimeseriesSettings,\n",
    "    anomaly_detection: bool,\n",
    "    custom_cleaning_functions: Dict[str, str] = {},\n",
    ") -> pd.DataFrame:\n",
    "    \"\"\"\n",
    "    The cleaner is a function which takes in the raw data, plus additional information about it's types and about the problem. Based on this it generates a \"clean\" representation of the data, where each column has an ideal standardized type and all malformed or otherwise missing or invalid elements are turned into ``None``\n",
    "\n",
    "    :param data: The raw data\n",
    "    :param dtype_dict: Type information for each column\n",
    "    :param identifiers: A dict containing all identifier typed columns\n",
    "    :param target: The target columns\n",
    "    :param mode: Can be \"predict\" or \"train\"\n",
    "    :param timeseries_settings: Timeseries related settings, only relevant for timeseries predictors, otherwise can be the default object\n",
    "    :param anomaly_detection: Are we detecting anomalies with this predictor?\n",
    "\n",
    "    :returns: The cleaned data\n",
    "    \"\"\"  # noqa\n",
    "\n",
    "    data = _remove_columns(\n",
    "        data,\n",
    "        identifiers,\n",
    "        target,\n",
    "        mode,\n",
    "        timeseries_settings,\n",
    "        anomaly_detection,\n",
    "        dtype_dict,\n",
    "    )\n",
    "\n",
    "    for col in _get_columns_to_clean(data, dtype_dict, mode, target):\n",
    "\n",
    "        log.info(\"Cleaning column =\" + str(col))\n",
    "        # Get and apply a cleaning function for each data type\n",
    "        # If you want to customize the cleaner, it's likely you can to modify ``get_cleaning_func``\n",
    "        data[col] = data[col].apply(\n",
    "            get_cleaning_func(dtype_dict[col], custom_cleaning_functions)\n",
    "        )\n",
    "\n",
    "        # ------------------------ #\n",
    "        # INTRODUCE YOUR CUSTOM BLOCK\n",
    "\n",
    "        # If column data type is a text type, remove stop-words\n",
    "        if dtype_dict[col] in (dtype.rich_text, dtype.short_text):\n",
    "            data[col] = data[col].apply(\n",
    "                lambda x: \" \".join(\n",
    "                    [word for word in x.split() if word not in stop_words]\n",
    "                )\n",
    "            )\n",
    "\n",
    "        # Enforce numerical columns as non-negative\n",
    "        if dtype_dict[col] in (dtype.integer, dtype.float):\n",
    "            log.info(\"Converted \" + str(col) + \" into strictly non-negative\")\n",
    "            data[col] = data[col].apply(lambda x: x if x > 0 else 0.0)\n",
    "\n",
    "        # ------------------------ #\n",
    "        data[col] = data[col].replace(\n",
    "            to_replace=VALUES_FOR_NAN_AND_NONE_IN_PANDAS, value=None\n",
    "        )\n",
    "    return data\n"
   ]
  },
  {
   "cell_type": "markdown",
   "id": "radical-armenia",
   "metadata": {},
   "source": [
    "#### Place your custom module in `~/lightwood_modules` or `/etc/lightwood_modules`\n",
    "\n",
    "We automatically search for custom scripts in your `~/lightwood_modules` and `/etc/lightwood_modules` path. Place your file there. Later, you'll see when we autogenerate code, that you can change your import location if you choose."
   ]
  },
  {
   "cell_type": "code",
   "execution_count": null,
   "id": "f030f8ca",
   "metadata": {
    "execution": {
     "iopub.execute_input": "2022-02-03T21:30:34.005036Z",
     "iopub.status.busy": "2022-02-03T21:30:34.004771Z",
     "iopub.status.idle": "2022-02-03T21:30:34.006037Z",
     "shell.execute_reply": "2022-02-03T21:30:34.006254Z"
    }
   },
   "outputs": [],
   "source": [
    "from lightwood import load_custom_module\n",
    "\n",
    "# Lightwood automatically does this for us if we want\n",
    "load_custom_module('./MyCustomCleaner.py')"
   ]
  },
  {
   "cell_type": "markdown",
   "id": "characteristic-promotion",
   "metadata": {},
   "source": [
    "### 4) Introduce your custom cleaner in JSON-AI\n",
    "\n",
    "Now let's introduce our custom cleaner. JSON-AI keeps a lightweight syntax but fills in many default modules (like splitting, cleaning).\n",
    "\n",
    "For the custom cleaner, we'll work by editing the \"cleaner\" key. We will change properties within it as follows:\n",
    "(1) \"module\" - place the name of the function. In our case it will be \"MyCustomCleaner.cleaner\"\n",
    "(2) \"args\" - any keyword argument specific to your cleaner's internals. \n",
    "\n",
    "This will look as follows:\n",
    "```\n",
    "    \"cleaner\": {\n",
    "        \"module\": \"MyCustomCleaner.cleaner\",\n",
    "        \"args\": {\n",
    "            \"identifiers\": \"$identifiers\",\n",
    "            \"data\": \"data\",\n",
    "            \"dtype_dict\": \"$dtype_dict\",\n",
    "            \"target\": \"$target\",\n",
    "            \"mode\": \"$mode\",\n",
    "            \"timeseries_settings\": \"$problem_definition.timeseries_settings\",\n",
    "            \"anomaly_detection\": \"$problem_definition.anomaly_detection\"\n",
    "        }\n",
    "```\n",
    "\n",
    "You may be wondering what the \"$\" variables reference. In certain cases, we'd like JSON-AI to auto-fill internal variables when automatically generating code, for example, we've already specified the \"target\" - it would be easier to simply refer in a modular sense what that term is. That is what these variables represent.\n",
    "\n",
    "As we borrowed most of the default `Cleaner`; we keep these arguments. In theory, if we were writing much of these details from scratch, we can customize these values as necessary."
   ]
  },
  {
   "cell_type": "markdown",
   "id": "respiratory-radiation",
   "metadata": {},
   "source": [
    "### 5) Generate Python code representing your ML pipeline\n",
    "\n",
    "Now we're ready to load up our custom JSON-AI and generate the predictor code!\n",
    "\n",
    "We can do this by first reading in our custom json-syntax, and then calling the function `code_from_json_ai`. "
   ]
  },
  {
   "cell_type": "code",
   "execution_count": null,
   "id": "floating-patent",
   "metadata": {
    "execution": {
     "iopub.execute_input": "2022-02-03T21:30:34.009559Z",
     "iopub.status.busy": "2022-02-03T21:30:34.009134Z",
     "iopub.status.idle": "2022-02-03T21:30:34.014254Z",
     "shell.execute_reply": "2022-02-03T21:30:34.014480Z"
    }
   },
   "outputs": [],
   "source": [
    "# Make changes to your JSON-AI\n",
    "json_ai.cleaner = {\n",
    "        \"module\": \"MyCustomCleaner.cleaner\",\n",
    "        \"args\": {\n",
    "            \"identifiers\": \"$identifiers\",\n",
    "            \"data\": \"data\",\n",
    "            \"dtype_dict\": \"$dtype_dict\",\n",
    "            \"target\": \"$target\",\n",
    "            \"mode\": \"$mode\",\n",
    "            \"timeseries_settings\": \"$problem_definition.timeseries_settings\",\n",
    "            \"anomaly_detection\": \"$problem_definition.anomaly_detection\"\n",
    "        }\n",
    "}\n",
    "\n",
    "#Generate python code that fills in your pipeline\n",
    "code = code_from_json_ai(json_ai)\n",
    "\n",
    "print(code)\n",
    "\n",
    "# Save code to a file (Optional)\n",
    "with open('custom_cleaner_pipeline.py', 'w') as fp:\n",
    "    fp.write(code)"
   ]
  },
  {
   "cell_type": "markdown",
   "id": "handled-oasis",
   "metadata": {},
   "source": [
    "As you can see, an end-to-end pipeline of our entire ML procedure has been generating. There are several abstracted functions to enable transparency as to what processes your data goes through in order to build these models.\n",
    "\n",
    "The key steps of the pipeline are as follows:\n",
    "\n",
    "(1) Run a **statistical analysis** with `analyze_data` <br>\n",
    "(2) Clean your data with `preprocess` <br>\n",
    "(3) Make a training/dev/testing split with `split` <br>\n",
    "(4) Prepare your feature-engineering pipelines with `prepare` <br>\n",
    "(5) Create your features with `featurize` <br>\n",
    "(6) Fit your predictor models with `fit` <br>\n",
    "\n",
    "You can customize this further if necessary, but you have all the steps necessary to train a model!\n",
    "\n",
    "We recommend familiarizing with these steps by calling the above commands, ideally in order. Some commands (namely `prepare`, `featurize`, and `fit`) do depend on other steps.\n",
    "\n",
    "If you want to omit the individual steps, we recommend your simply call the `learn` method, which compiles all the necessary steps implemented to give your fully trained predictive models starting with unprocessed data! "
   ]
  },
  {
   "cell_type": "markdown",
   "id": "meaning-saskatchewan",
   "metadata": {},
   "source": [
    "### 6) Call python to run your code and see your preprocessed outputs\n",
    "\n",
    "Once we have code, we can turn this into a python object by calling `predictor_from_code`. This instantiates the `PredictorInterface` object. \n",
    "\n",
    "This predictor object can be then used to run your pipeline."
   ]
  },
  {
   "cell_type": "code",
   "execution_count": null,
   "id": "violent-guard",
   "metadata": {
    "execution": {
     "iopub.execute_input": "2022-02-03T21:30:34.016713Z",
     "iopub.status.busy": "2022-02-03T21:30:34.016311Z",
     "iopub.status.idle": "2022-02-03T21:30:34.020897Z",
     "shell.execute_reply": "2022-02-03T21:30:34.021123Z"
    }
   },
   "outputs": [],
   "source": [
    "# Turn the code above into a predictor object\n",
    "predictor = predictor_from_code(code)"
   ]
  },
  {
   "cell_type": "code",
   "execution_count": null,
   "id": "closing-episode",
   "metadata": {
    "execution": {
     "iopub.execute_input": "2022-02-03T21:30:34.023678Z",
     "iopub.status.busy": "2022-02-03T21:30:34.023275Z",
     "iopub.status.idle": "2022-02-03T21:30:34.114309Z",
     "shell.execute_reply": "2022-02-03T21:30:34.114071Z"
    }
   },
   "outputs": [],
   "source": [
    "predictor.mode = \"train\"\n",
    "\n",
    "# Perform stats analysis\n",
    "predictor.analyze_data(data)\n",
    "\n",
    "# Pre-process the data\n",
    "cleaned_data = predictor.preprocess(data)\n",
    "\n",
    "cleaned_data.head()"
   ]
  },
  {
   "cell_type": "code",
   "execution_count": null,
   "id": "major-stake",
   "metadata": {
    "execution": {
     "iopub.execute_input": "2022-02-03T21:30:34.118015Z",
     "iopub.status.busy": "2022-02-03T21:30:34.117499Z",
     "iopub.status.idle": "2022-02-03T21:30:34.119943Z",
     "shell.execute_reply": "2022-02-03T21:30:34.119720Z"
    }
   },
   "outputs": [],
   "source": [
    "print(\"\\033[1m\"  + \"Original Data\\n\" + \"\\033[0m\")\n",
    "print(\"Excerpt:\\n\", data.iloc[0][\"excerpt\"])\n",
    "print(\"\\nTarget:\\n\", data.iloc[0][\"target\"])\n",
    "\n",
    "print(\"\\033[1m\"  + \"\\n\\nCleaned Data\\n\" + \"\\033[0m\")\n",
    "print(\"Excerpt:\\n\", cleaned_data.iloc[0][\"excerpt\"])\n",
    "print(\"\\nTarget:\\n\", cleaned_data.iloc[0][\"target\"])"
   ]
  },
  {
   "cell_type": "markdown",
   "id": "celtic-scientist",
   "metadata": {},
   "source": [
    "As you can see, the cleaning-process we introduced cut out the stop-words from the Excerpt, and enforced the target data to stay positive.\n",
    "\n",
    "We hope this tutorial was informative on how to introduce a **custom preprocessing method** to your datasets! For more customization tutorials, please check our [documentation](https://lightwood.io/tutorials.html).\n",
    "\n",
    "If you want to download the Jupyter-notebook version of this tutorial, check out the source github location found here: `lightwood/docssrc/source/tutorials/custom_cleaner`. "
   ]
  }
 ],
 "metadata": {
  "kernelspec": {
   "display_name": "Python 3.7.13 ('mindsdbexp')",
   "language": "python",
   "name": "python3"
  },
  "language_info": {
   "codemirror_mode": {
    "name": "ipython",
    "version": 3
   },
   "file_extension": ".py",
   "mimetype": "text/x-python",
   "name": "python",
   "nbconvert_exporter": "python",
   "pygments_lexer": "ipython3",
   "version": "3.7.13"
  },
  "vscode": {
   "interpreter": {
    "hash": "6ff247f6d5833e3aceadce6d727d978a99b6c18f0ffe1c052149aa16d031f0b1"
   }
  }
 },
 "nbformat": 4,
 "nbformat_minor": 5
}
