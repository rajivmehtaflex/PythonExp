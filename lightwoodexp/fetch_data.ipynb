{
 "cells": [
  {
   "cell_type": "code",
   "execution_count": null,
   "metadata": {},
   "outputs": [],
   "source": [
    "print('Gajraj')"
   ]
  },
  {
   "cell_type": "code",
   "execution_count": null,
   "metadata": {},
   "outputs": [],
   "source": [
    "%%writefile fdf.py\n",
    "\n",
    "\"\"\"\n",
    "2021.07.16\n",
    "\n",
    "For encoders that already fine-tune on the targets (namely text)\n",
    "the unity mixer just arg-maxes the output of the encoder.\n",
    "\"\"\"\n",
    "\n",
    "from typing import List\n",
    "\n",
    "import torch\n",
    "import pandas as pd\n",
    "\n",
    "from lightwood.helpers.log import log\n",
    "from lightwood.mixer.base import BaseMixer\n",
    "from lightwood.encoder.base import BaseEncoder\n",
    "from lightwood.data.encoded_ds import EncodedDs\n",
    "from lightwood.api.types import PredictionArguments\n",
    "\n",
    "\n",
    "class FetchDB(BaseMixer):\n",
    "    def __init__(self, stop_after: float, target_encoder: BaseEncoder):\n",
    "        super().__init__(stop_after)\n",
    "        self.target_encoder = target_encoder\n",
    "        self.supports_proba = False\n",
    "        self.stable = True\n",
    "\n",
    "    def fit(self, train_data: EncodedDs, dev_data: EncodedDs) -> None:\n",
    "        log.info(\"Unit Mixer just borrows from encoder\")\n",
    "\n",
    "    def partial_fit(self, train_data: EncodedDs, dev_data: EncodedDs) -> None:\n",
    "        pass\n",
    "\n",
    "    def __call__(self, ds: EncodedDs,\n",
    "                 args: PredictionArguments = PredictionArguments()) -> pd.DataFrame:\n",
    "        if args.predict_proba:\n",
    "            # @TODO: depending on the target encoder, this might be enabled\n",
    "            log.warning('This model does not output probability estimates')\n",
    "\n",
    "        decoded_predictions: List[object] = []\n",
    "\n",
    "        for X, _ in ds:\n",
    "            decoded_prediction = self.target_encoder.decode(torch.unsqueeze(X, 0))\n",
    "            decoded_predictions.extend(decoded_prediction)\n",
    "\n",
    "        ydf = pd.DataFrame({\"prediction\": decoded_predictions})\n",
    "        return ydf\n"
   ]
  },
  {
   "cell_type": "code",
   "execution_count": null,
   "metadata": {},
   "outputs": [],
   "source": [
    "import pandas as pd\n",
    "df = pd.read_csv('/workspace/PythonExp/lightwoodexp/airline.csv')\n",
    "df=df[['airline_sentiment','text']]\n",
    "df=df.rename(columns={\"airline_sentiment\":\"sentiment\"})\n",
    "df=df.iloc[:100]"
   ]
  },
  {
   "cell_type": "code",
   "execution_count": null,
   "metadata": {},
   "outputs": [],
   "source": [
    "df.to_csv(\"airline.csv\")"
   ]
  },
  {
   "cell_type": "code",
   "execution_count": null,
   "metadata": {},
   "outputs": [],
   "source": [
    "from lightwood.api.high_level import ProblemDefinition, json_ai_from_problem, load_custom_module\n",
    "import pandas as pd\n",
    "\n",
    "# load the code\n",
    "load_custom_module('./fdf.py')\n",
    "\n",
    "# read dataset\n",
    "# df = pd.read_csv('/workspace/PythonExp/data/airline_sentiment.csv')\n",
    "\n",
    "# define the predictive task\n",
    "pdef = ProblemDefinition.from_dict({\n",
    "    'target': 'sentiment', # column you want to predict\n",
    "})\n",
    "\n",
    "# generate the Json AI intermediate representation from the data and its corresponding settings\n",
    "json_ai = json_ai_from_problem(df, problem_definition=pdef)\n",
    "\n",
    "# Print it (you can also put it in a file and edit it there)\n",
    "print(json_ai.to_json())"
   ]
  },
  {
   "cell_type": "code",
   "execution_count": null,
   "metadata": {},
   "outputs": [],
   "source": [
    "json_ai.model['args']['submodels'] = [{\n",
    "    'module': 'fdf.FetchDB',\n",
    "    \"args\": {\n",
    "        \"target_encoder\": \"$encoders[self.target]\",\n",
    "        \"stop_after\": \"$problem_definition.seconds_per_mixer\"\n",
    "    }\n",
    "}]"
   ]
  },
  {
   "cell_type": "code",
   "execution_count": null,
   "metadata": {},
   "outputs": [],
   "source": [
    "print(json_ai.to_json())"
   ]
  },
  {
   "cell_type": "code",
   "execution_count": null,
   "metadata": {},
   "outputs": [],
   "source": [
    "from lightwood.api.high_level import code_from_json_ai, predictor_from_code\n",
    "code = code_from_json_ai(json_ai)\n",
    "predictor = predictor_from_code(code)\n",
    "predictor.learn(df)"
   ]
  },
  {
   "cell_type": "code",
   "execution_count": null,
   "metadata": {},
   "outputs": [],
   "source": [
    "predictions = predictor.predict(pd.DataFrame({\n",
    "    'text': ['you are beautyful','are you mad?','Where are you bloodyful']\n",
    "}))\n",
    "print(predictions)"
   ]
  },
  {
   "cell_type": "code",
   "execution_count": null,
   "metadata": {},
   "outputs": [],
   "source": []
  },
  {
   "cell_type": "code",
   "execution_count": null,
   "metadata": {},
   "outputs": [],
   "source": []
  }
 ],
 "metadata": {
  "kernelspec": {
   "display_name": "Python 3.8.13 ('lightwood')",
   "language": "python",
   "name": "python3"
  },
  "language_info": {
   "codemirror_mode": {
    "name": "ipython",
    "version": 3
   },
   "file_extension": ".py",
   "mimetype": "text/x-python",
   "name": "python",
   "nbconvert_exporter": "python",
   "pygments_lexer": "ipython3",
   "version": "3.8.13"
  },
  "orig_nbformat": 4,
  "vscode": {
   "interpreter": {
    "hash": "c75c7165fef9d0866c11758da1d2988a7394dfc39f36fe6fb79f1a02fb85bb7f"
   }
  }
 },
 "nbformat": 4,
 "nbformat_minor": 2
}
