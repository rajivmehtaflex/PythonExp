{
  "cells": [
    {
      "cell_type": "markdown",
      "metadata": {
        "id": "POWZoSJR6XzK"
      },
      "source": [
        "# Embeddings SQL custom functions\n",
        "\n",
        "_This notebook is part of a tutorial series on [txtai](https://github.com/neuml/txtai), an AI-powered semantic search platform._\n",
        "\n",
        "[txtai](https://github.com/neuml/txtai) executes machine-learning workflows to transform data and build AI-powered semantic search applications.\n",
        "\n",
        "txtai 4.0 added support for SQL-based embeddings queries. This feature combines natural language queries for similarity with concrete filtering rules. txtai now has support for user-defined SQL functions, making this feature even more powerful."
      ]
    },
    {
      "cell_type": "markdown",
      "metadata": {
        "id": "qa_PPKVX6XzN"
      },
      "source": [
        "# Install dependencies\n",
        "\n",
        "Install `txtai` and all dependencies."
      ]
    },
    {
      "cell_type": "code",
      "execution_count": null,
      "metadata": {
        "_cell_guid": "b1076dfc-b9ad-4769-8c92-a6c4dae69d19",
        "_kg_hide-output": true,
        "_uuid": "8f2839f25d086af736a60e9eeb907d3b93b6e0e5",
        "id": "24q-1n5i6XzQ",
        "trusted": true
      },
      "outputs": [],
      "source": [
        "%%capture\n",
        "!pip install git+https://github.com/neuml/txtai#egg=txtai[pipeline]"
      ]
    },
    {
      "cell_type": "markdown",
      "metadata": {
        "id": "0p3WCDniUths"
      },
      "source": [
        "# Create index\n",
        "Let's first recap how to create an index. We'll use the classic txtai example.\n"
      ]
    },
    {
      "cell_type": "code",
      "execution_count": null,
      "metadata": {
        "_cell_guid": "79c7e3d0-c299-4dcb-8224-4455121ee9b0",
        "_uuid": "d629ff2d2480ee46fbb7e2d37f6b5fab8052498a",
        "colab": {
          "base_uri": "https://localhost:8080/"
        },
        "id": "2j_CFGDR6Xzp",
        "outputId": "f2488a78-6cae-4c25-985e-fb2dd674a534",
        "trusted": true
      },
      "outputs": [],
      "source": [
        "from txtai.embeddings import Embeddings\n",
        "\n",
        "data = [\"US tops 5 million confirmed virus cases\",\n",
        "        \"Canada's last fully intact ice shelf has suddenly collapsed, forming a Manhattan-sized iceberg\",\n",
        "        \"Beijing mobilises invasion craft along coast as Taiwan tensions escalate\",\n",
        "        \"The National Park Service warns against sacrificing slower friends in a bear attack\",\n",
        "        \"Maine man wins $1M from $25 lottery ticket\",\n",
        "        \"Make huge profits without work, earn up to $100,000 a day\"]\n",
        "\n",
        "# Create embeddings index with content enabled. The default behavior is to only store indexed vectors.\n",
        "embeddings = Embeddings({\"path\": \"sentence-transformers/nli-mpnet-base-v2\", \"content\": True})\n",
        "\n",
        "# Create an index for the list of text\n",
        "embeddings.index([(uid, text, None) for uid, text in enumerate(data)])\n",
        "\n",
        "# Run a search\n",
        "embeddings.search(\"feel good story\", 1)"
      ]
    },
    {
      "cell_type": "markdown",
      "metadata": {
        "id": "QTee7YMNDD4R"
      },
      "source": [
        "# Custom SQL functions\n",
        "\n",
        "Next, we'll recreate the index adding user-defined SQL functions. These functions are simply Python callable objects or functions that take an input and return values. Pipelines, workflows, custom tasks and any other callable object is supported."
      ]
    },
    {
      "cell_type": "code",
      "execution_count": null,
      "metadata": {
        "colab": {
          "base_uri": "https://localhost:8080/"
        },
        "id": "rbsEXtysDDNg",
        "outputId": "f966be17-086b-49b4-e1af-62b766f1c995"
      },
      "outputs": [],
      "source": [
        "def clength(text):\n",
        "  return len(text) if text else 0\n",
        "\n",
        "# Create embeddings index with content enabled. The default behavior is to only store indexed vectors.\n",
        "embeddings = Embeddings({\"path\": \"sentence-transformers/nli-mpnet-base-v2\", \"content\": True, \"functions\": [clength]})\n",
        "\n",
        "# Create an index for the list of text\n",
        "embeddings.index([(uid, text, None) for uid, text in enumerate(data)])\n",
        "\n",
        "# Run a search using a custom SQL function\n",
        "embeddings.search(\"select clength(text) clength, length(text) length, text from txtai where similar('feel good story')\", 1)"
      ]
    },
    {
      "cell_type": "markdown",
      "metadata": {
        "id": "epIV58P1DyZa"
      },
      "source": [
        "The function itself is simple, it's just alternate length function. But this example is just warming us up to what is possible and what is more exciting. "
      ]
    },
    {
      "cell_type": "markdown",
      "metadata": {
        "id": "1Iw1WKR6FW3S"
      },
      "source": [
        "# Pipelines in SQL\n",
        "\n",
        "As mentioned above, any callable can be registered as a custom SQL function. Let's add a translate SQL function."
      ]
    },
    {
      "cell_type": "code",
      "execution_count": null,
      "metadata": {
        "colab": {
          "base_uri": "https://localhost:8080/"
        },
        "id": "83e8yXpXFh4F",
        "outputId": "0b17e9be-8983-418d-9903-b1e72efc5918"
      },
      "outputs": [],
      "source": [
        "from txtai.pipeline import Translation\n",
        "\n",
        "# Translation pipeline\n",
        "translate = Translation()\n",
        "\n",
        "# Create embeddings index with content enabled. The default behavior is to only store indexed vectors.\n",
        "embeddings = Embeddings({\"path\": \"sentence-transformers/nli-mpnet-base-v2\", \"content\": True, \"functions\": [translate]})\n",
        "\n",
        "# Create an index for the list of text\n",
        "embeddings.index([(uid, text, None) for uid, text in enumerate(data)])\n",
        "\n",
        "query = \"\"\"\n",
        "select\n",
        "  text,\n",
        "  translation(text, 'de', null) 'text (DE)',\n",
        "  translation(text, 'es', null) 'text (ES)',\n",
        "  translation(text, 'fr', null) 'text (FR)'\n",
        "from txtai where similar('feel good story')\n",
        "limit 1\n",
        "\"\"\"\n",
        "\n",
        "# Run a search using a custom SQL function\n",
        "# embeddings.search(query)\n",
        "embeddings.graph.pagerank?"
      ]
    },
    {
      "cell_type": "code",
      "execution_count": null,
      "metadata": {},
      "outputs": [],
      "source": [
        "embeddings.graph"
      ]
    },
    {
      "cell_type": "markdown",
      "metadata": {
        "id": "Ck_XTyBEQtaW"
      },
      "source": [
        "And just like that we have translations through SQL! This is pretty 🔥🔥🔥\n",
        "\n",
        "We can do more to make this easier though. Let's define a helper function to not require as many parameters. The default logic will require all function parameters each call, including parameters with default values."
      ]
    },
    {
      "cell_type": "code",
      "execution_count": null,
      "metadata": {
        "colab": {
          "base_uri": "https://localhost:8080/"
        },
        "id": "L2DDJrd0RAaN",
        "outputId": "0bb437ec-5c9b-4a0c-fe8a-07f641c94a49"
      },
      "outputs": [],
      "source": [
        "def translation(text, lang):\n",
        "  return translate(text, lang)\n",
        "\n",
        "# Create embeddings index with content enabled. The default behavior is to only store indexed vectors.\n",
        "embeddings = Embeddings({\"path\": \"sentence-transformers/nli-mpnet-base-v2\", \"content\": True, \"functions\": [translation]})\n",
        "\n",
        "# Create an index for the list of text\n",
        "embeddings.index([(uid, text, None) for uid, text in enumerate(data)])\n",
        "\n",
        "query = \"\"\"\n",
        "select\n",
        "  text,\n",
        "  translation(text, 'de') 'text (DE)',\n",
        "  translation(text, 'es') 'text (ES)',\n",
        "  translation(text, 'fr') 'text (FR)'\n",
        "from txtai where similar('feel good story')\n",
        "limit 1\n",
        "\"\"\"\n",
        "\n",
        "# Run a search using a custom SQL function\n",
        "embeddings.search(query)"
      ]
    },
    {
      "cell_type": "markdown",
      "metadata": {
        "id": "mTT8nopiRdVH"
      },
      "source": [
        "# Custom SQL functions with applications\n",
        "\n",
        "Of course this is all available with YAML-configured applications."
      ]
    },
    {
      "cell_type": "code",
      "execution_count": null,
      "metadata": {
        "colab": {
          "base_uri": "https://localhost:8080/"
        },
        "id": "FZ_7G6M4RUbz",
        "outputId": "4eca94f3-d2aa-4449-dc6f-f1091ad9dd67"
      },
      "outputs": [],
      "source": [
        "config = \"\"\"\n",
        "translation:\n",
        "\n",
        "writable: true\n",
        "embeddings:\n",
        "  path: sentence-transformers/nli-mpnet-base-v2\n",
        "  content: true\n",
        "  functions:\n",
        "    - {name: translation, argcount: 2, function: translation}\n",
        "\"\"\"\n",
        "\n",
        "from txtai.app import Application\n",
        "\n",
        "# Build application and index data\n",
        "app = Application(config)\n",
        "app.add([{\"id\": x, \"text\": row} for x, row in enumerate(data)])\n",
        "app.index()\n",
        "\n",
        "# Run search with custom SQL\n",
        "app.search(query)"
      ]
    },
    {
      "cell_type": "markdown",
      "metadata": {
        "id": "aDIF3tYt6X0O"
      },
      "source": [
        "# Wrapping up\n",
        "\n",
        "This notebook introduced running user-defined custom SQL functions through embeddings SQL. This powerful feature can be used with any callable function including pipelines, tasks and workflows in tandem with similarity and rules filters."
      ]
    }
  ],
  "metadata": {
    "colab": {
      "collapsed_sections": [],
      "name": "30 - Embeddings SQL custom functions",
      "provenance": []
    },
    "kernelspec": {
      "display_name": "Python 3.8.13 64-bit ('shims')",
      "language": "python",
      "name": "python3"
    },
    "language_info": {
      "codemirror_mode": {
        "name": "ipython",
        "version": 3
      },
      "file_extension": ".py",
      "mimetype": "text/x-python",
      "name": "python",
      "nbconvert_exporter": "python",
      "pygments_lexer": "ipython3",
      "version": "3.8.13"
    },
    "vscode": {
      "interpreter": {
        "hash": "9ac03a0a6051494cc606d484d27d20fce22fb7b4d169f583271e11d5ba46a56e"
      }
    }
  },
  "nbformat": 4,
  "nbformat_minor": 0
}
