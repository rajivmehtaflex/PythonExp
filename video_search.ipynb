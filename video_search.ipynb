{
 "cells": [
  {
   "cell_type": "code",
   "execution_count": null,
   "metadata": {},
   "outputs": [],
   "source": [
    "# !pip install av clip_client"
   ]
  },
  {
   "cell_type": "code",
   "execution_count": null,
   "metadata": {},
   "outputs": [],
   "source": [
    "from docarray import Document,DocumentArray\n",
    "video_uri = \"https://archive.org/download/santa-clause-conquers-the-martians/Santa%20Clause%20Conquers%20The%20Martians.ia.mp4\"\n",
    "video_data = Document(uri=video_uri).load_uri_to_video_tensor()"
   ]
  },
  {
   "cell_type": "code",
   "execution_count": null,
   "metadata": {},
   "outputs": [],
   "source": [
    "print(video_data.tensor.shape)"
   ]
  },
  {
   "cell_type": "code",
   "execution_count": null,
   "metadata": {},
   "outputs": [],
   "source": [
    "video_data.display()"
   ]
  },
  {
   "cell_type": "code",
   "execution_count": null,
   "metadata": {},
   "outputs": [],
   "source": [
    "import numpy\n",
    "Document(tensor=numpy.rot90(video_data.tensor[100], -1)).display()"
   ]
  },
  {
   "cell_type": "code",
   "execution_count": null,
   "metadata": {},
   "outputs": [],
   "source": [
    "clip_data = video_data.tensor[300:600]\n",
    "Document(tensor=clip_data).save_video_tensor_to_file(\"clip.mp4\")\n",
    "Document(uri=\"clip.mp4\").display()"
   ]
  },
  {
   "cell_type": "code",
   "execution_count": null,
   "metadata": {},
   "outputs": [],
   "source": [
    "print(video_data.tags)"
   ]
  },
  {
   "cell_type": "code",
   "execution_count": null,
   "metadata": {},
   "outputs": [],
   "source": [
    "from docarray import Document, DocumentArray\n",
    "from numpy import rot90\n",
    "\n",
    "keyframe_indices = video_data.tags['keyframe_indices']\n",
    "keyframes = DocumentArray()\n",
    "for idx in range(0, len(keyframe_indices) - 1):\n",
    "\tkeyframe_number = keyframe_indices[idx]\n",
    "\tkeyframe_tensor = rot90(video_data.tensor[keyframe_number], -1)\n",
    "\tclip_indices = {\n",
    "        'start': str(keyframe_number),\n",
    "        'end': str(keyframe_indices[idx + 1]),\n",
    "    }\n",
    "\tkeyframe = Document(tags=clip_indices, tensor=keyframe_tensor)\n",
    "\tkeyframes.append(keyframe)"
   ]
  },
  {
   "cell_type": "code",
   "execution_count": null,
   "metadata": {},
   "outputs": [],
   "source": [
    "from docarray import Document, DocumentArray\n",
    "from clip_client import Client\n",
    "\n",
    "server_url = \"grpcs://api.clip.jina.ai:2096\"\n",
    "\n",
    "# substitute your own token in the line below!\n",
    "jina_auth_token = \"ef8dd06701869bc93d1849de103617ae\"\n",
    "\n",
    "client = Client(server_url, credential={\"Authorization\": jina_auth_token})"
   ]
  },
  {
   "cell_type": "code",
   "execution_count": null,
   "metadata": {},
   "outputs": [],
   "source": [
    "query = Document(text=\"space shuttle launch\", matches=keyframes)\n",
    "ranked_result = client.rank([query])[0]"
   ]
  },
  {
   "cell_type": "code",
   "execution_count": null,
   "metadata": {},
   "outputs": [],
   "source": [
    "print(ranked_result.matches[0].tags)"
   ]
  },
  {
   "cell_type": "code",
   "execution_count": null,
   "metadata": {},
   "outputs": [],
   "source": [
    "match = ranked_result.matches[0]\n",
    "start_frame = int(match.tags['start'])\n",
    "end_frame = int(match.tags['end'])\n",
    "clip_data = video_data.tensor[start_frame:end_frame] \n",
    "Document(tensor=clip_data).save_video_tensor_to_file(\"match.mp4\")\n",
    "Document(uri=\"match.mp4\").display()"
   ]
  },
  {
   "cell_type": "code",
   "execution_count": null,
   "metadata": {},
   "outputs": [],
   "source": []
  }
 ],
 "metadata": {
  "kernelspec": {
   "display_name": "Python 3",
   "language": "python",
   "name": "python3"
  },
  "language_info": {
   "codemirror_mode": {
    "name": "ipython",
    "version": 3
   },
   "file_extension": ".py",
   "mimetype": "text/x-python",
   "name": "python",
   "nbconvert_exporter": "python",
   "pygments_lexer": "ipython3",
   "version": "3.8.16 (default, Dec  7 2022, 01:12:13) \n[GCC 7.5.0]"
  },
  "orig_nbformat": 4,
  "vscode": {
   "interpreter": {
    "hash": "949777d72b0d2535278d3dc13498b2535136f6dfe0678499012e853ee9abcab1"
   }
  }
 },
 "nbformat": 4,
 "nbformat_minor": 2
}
